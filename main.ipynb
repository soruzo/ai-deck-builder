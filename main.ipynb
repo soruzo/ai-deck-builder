{
  "nbformat": 4,
  "nbformat_minor": 0,
  "metadata": {
    "colab": {
      "provenance": [],
      "authorship_tag": "ABX9TyMOrR+MI6KXAPCB6Y1bp/Hh",
      "include_colab_link": true
    },
    "kernelspec": {
      "name": "python3",
      "display_name": "Python 3"
    },
    "language_info": {
      "name": "python"
    }
  },
  "cells": [
    {
      "cell_type": "markdown",
      "metadata": {
        "id": "view-in-github",
        "colab_type": "text"
      },
      "source": [
        "<a href=\"https://colab.research.google.com/github/soruzo/ai-deck-builder/blob/main/main.ipynb\" target=\"_parent\"><img src=\"https://colab.research.google.com/assets/colab-badge.svg\" alt=\"Open In Colab\"/></a>"
      ]
    },
    {
      "cell_type": "code",
      "execution_count": 1,
      "metadata": {
        "id": "RA6t6aJfaHTQ"
      },
      "outputs": [],
      "source": [
        "import pandas as pd"
      ]
    },
    {
      "cell_type": "code",
      "source": [
        "path = '/content/cards.csv'\n",
        "df = pd.read_csv(path)"
      ],
      "metadata": {
        "colab": {
          "base_uri": "https://localhost:8080/"
        },
        "id": "BcSkDwZAo0QV",
        "outputId": "c547974b-1c4e-4f86-81c1-88a7d5dce375"
      },
      "execution_count": 2,
      "outputs": [
        {
          "output_type": "stream",
          "name": "stderr",
          "text": [
            "<ipython-input-2-c0faa2bd7457>:2: DtypeWarning: Columns (3,7,12,16,20,23,25,26,30,31,32,33,35,39,40,41,47,52,53,61,62,66,68) have mixed types. Specify dtype option on import or set low_memory=False.\n",
            "  df = pd.read_csv(path)\n"
          ]
        }
      ]
    },
    {
      "cell_type": "code",
      "source": [
        "# Extrair tipos únicos de cartas\n",
        "unique_types = set()\n",
        "df['types'].dropna().apply(lambda x: unique_types.update(x.split(',')))\n",
        "print(\"Tipos únicos de cartas:\", unique_types)"
      ],
      "metadata": {
        "colab": {
          "base_uri": "https://localhost:8080/"
        },
        "id": "KFz7-qMZx-B7",
        "outputId": "66cbbb20-a4ce-465c-b5da-f2ef7fa18790"
      },
      "execution_count": 3,
      "outputs": [
        {
          "output_type": "stream",
          "name": "stdout",
          "text": [
            "Tipos únicos de cartas: {' Legend', 'Universewalker', 'Stickers', ' Knights', 'Tribal', 'instant', 'Plane', 'Scheme', 'Elemental', 'Conspiracy', 'Eaturecray', 'Land', 'Scariest', ' Land', 'Vanguard', 'Planeswalker', 'Summon', 'Artifact', ' Goblin', 'Enchantment', 'Hero', ' Wolf', \" You'll\", 'Phenomenon', 'Sorcery', 'Creature', ' Dragon', 'Instant', ' Ever', ' Instant', 'Battle', ' Artifact', ' Sorcery', ' Jaguar', ' See', ' Enchantment', ' Creature'}\n"
          ]
        }
      ]
    },
    {
      "cell_type": "code",
      "source": [
        "creatures_df = df[df['types'].str.contains('Creature', na=False)]\n",
        "instants_df = df[df['types'].str.contains('Instant', na=False)]\n",
        "sorceries_df = df[df['types'].str.contains('Sorcery', na=False)]\n",
        "planeswalkers_df = df[df['types'].str.contains('Planeswalker', na=False)]\n",
        "enchantments_df = df[df['types'].str.contains('Enchantment', na=False)]\n",
        "artifacts_df = df[df['types'].str.contains('Artifact', na=False)]\n",
        "lands_df = df[df['types'].str.contains('Land', na=False)]"
      ],
      "metadata": {
        "id": "HYz48h1St87p"
      },
      "execution_count": 4,
      "outputs": []
    },
    {
      "cell_type": "code",
      "source": [
        "creatures_analysis = creatures_df[['name', 'manaValue', 'power', 'toughness', 'colorIdentity', 'rarity','text','subtypes','supertypes','setCode','edhrecRank']]\n",
        "instants_analysis = instants_df[['name', 'manaValue', 'colorIdentity', 'rarity','text','setCode','edhrecRank']]\n",
        "sorceries_analysis = sorceries_df[['name', 'manaValue', 'colorIdentity', 'rarity','text','setCode','edhrecRank']]\n",
        "planeswalkers_analysis = planeswalkers_df[['name', 'manaValue', 'loyalty', 'colorIdentity', 'rarity','text','setCode','edhrecRank']]\n",
        "enchantments_analysis = enchantments_df[['name', 'manaValue', 'colorIdentity', 'rarity','text','setCode','edhrecRank']]\n",
        "artifacts_analysis = artifacts_df[['name', 'manaValue', 'colorIdentity', 'rarity','text','setCode','edhrecRank']]\n",
        "lands_analysis = lands_df[['name', 'colorIdentity', 'rarity','text','setCode','edhrecRank']]"
      ],
      "metadata": {
        "id": "NpvXjb_yvSiq"
      },
      "execution_count": 7,
      "outputs": []
    },
    {
      "cell_type": "code",
      "source": [
        "# Analises Exploratorias\n",
        "color_identity_counts = df['colorIdentity'].value_counts()\n",
        "colors_counts = df['colors'].value_counts()\n",
        "\n",
        "print(\"Contagem de Identidade de Cor:\\n\", color_identity_counts)\n",
        "print(\"\\nContagem de Cores:\\n\", colors_counts)\n",
        "\n",
        "type_counts = df['types'].str.split(',', expand=True).stack().value_counts()\n",
        "print(type_counts)\n"
      ],
      "metadata": {
        "colab": {
          "base_uri": "https://localhost:8080/"
        },
        "id": "NLJqPQ-py-JB",
        "outputId": "5c1af92c-e888-4aba-d8a1-ec38dd982902"
      },
      "execution_count": 8,
      "outputs": [
        {
          "output_type": "stream",
          "name": "stdout",
          "text": [
            "Contagem de Identidade de Cor:\n",
            " G                12864\n",
            "B                12713\n",
            "W                12469\n",
            "R                12442\n",
            "U                12366\n",
            "U, W              1391\n",
            "G, W              1379\n",
            "B, U              1364\n",
            "B, R              1340\n",
            "G, R              1316\n",
            "R, W              1217\n",
            "G, U              1194\n",
            "R, U              1184\n",
            "B, W              1172\n",
            "B, G              1147\n",
            "B, R, U            376\n",
            "B, G, R, U, W      364\n",
            "G, R, W            285\n",
            "B, U, W            279\n",
            "G, U, W            258\n",
            "B, G, R            255\n",
            "B, R, W            188\n",
            "R, U, W            186\n",
            "B, G, U            185\n",
            "B, G, W            168\n",
            "G, R, U            164\n",
            "B, G, U, W          21\n",
            "G, R, U, W          20\n",
            "B, R, U, W           8\n",
            "B, G, R, U           7\n",
            "B, G, R, W           6\n",
            "Name: colorIdentity, dtype: int64\n",
            "\n",
            "Contagem de Cores:\n",
            " G                11998\n",
            "B                11758\n",
            "W                11689\n",
            "R                11616\n",
            "U                11449\n",
            "U, W               934\n",
            "G, W               904\n",
            "B, U               885\n",
            "G, R               885\n",
            "B, R               880\n",
            "G, U               830\n",
            "B, W               788\n",
            "R, W               779\n",
            "R, U               769\n",
            "B, G               767\n",
            "B, R, U            304\n",
            "B, U, W            226\n",
            "G, R, W            223\n",
            "G, U, W            192\n",
            "B, G, R            191\n",
            "B, G, R, U, W      182\n",
            "R, U, W            146\n",
            "B, G, U            130\n",
            "B, R, W            130\n",
            "B, G, W            121\n",
            "G, R, U            113\n",
            "B, G, U, W          21\n",
            "G, R, U, W          20\n",
            "W, G                19\n",
            "U, B                15\n",
            "U, G                14\n",
            "W, R                14\n",
            "U, R                14\n",
            "W, U                13\n",
            "R, G                10\n",
            "W, B                 9\n",
            "U, R, G              8\n",
            "B, R, U, W           8\n",
            "B, G, R, U           7\n",
            "B, G, R, W           6\n",
            "Name: colors, dtype: int64\n",
            "Creature          38379\n",
            "Artifact           9787\n",
            "Land               9783\n",
            "Sorcery            9604\n",
            "Instant            9551\n",
            "Enchantment        8795\n",
            " Creature          3270\n",
            "Planeswalker       1440\n",
            "Plane               244\n",
            "Tribal              133\n",
            "Vanguard            119\n",
            " Land               110\n",
            "Scheme               70\n",
            "Battle               52\n",
            " Instant             51\n",
            "Stickers             48\n",
            " Enchantment         43\n",
            " Sorcery             35\n",
            " Artifact            30\n",
            "Conspiracy           26\n",
            "Phenomenon           25\n",
            "Hero                 21\n",
            "Summon               16\n",
            " Dragon               3\n",
            " Wolf                 2\n",
            " Jaguar               2\n",
            "Elemental             2\n",
            " You'll               1\n",
            "Eaturecray            1\n",
            " See                  1\n",
            " Ever                 1\n",
            "Universewalker        1\n",
            "Scariest              1\n",
            " Legend               1\n",
            " Knights              1\n",
            " Goblin               1\n",
            "instant               1\n",
            "dtype: int64\n"
          ]
        }
      ]
    },
    {
      "cell_type": "code",
      "source": [
        "def rank_creatures(df, top_n=10):\n",
        "    # Pontuação baseada em custo de mana, poder e resistência\n",
        "    df['power'] = pd.to_numeric(df['power'], errors='coerce')\n",
        "    df['toughness'] = pd.to_numeric(df['toughness'], errors='coerce')\n",
        "    df['manaValue'] = pd.to_numeric(df['manaValue'], errors='coerce')\n",
        "\n",
        "    # Exemplo simplificado: pontuação baseada na relação poder/custo e resistência/custo\n",
        "    df['score'] = (df['power'] + df['toughness']) / df['manaValue']\n",
        "\n",
        "    # Pontuação adicional baseada em habilidades (a ser expandida)\n",
        "    df['score'] += df['text'].str.contains('first strike', case=False, na=False) * 0.5\n",
        "    # ... Adicionar outras habilidades aqui\n",
        "\n",
        "    # Filtrar NaNs e ordenar\n",
        "    ranked_df = df.dropna(subset=['score']).sort_values(by='score', ascending=False)\n",
        "\n",
        "    return ranked_df.head(top_n)\n",
        "\n",
        "# Exemplo de uso\n",
        "top_creatures = rank_creatures(creatures_df)\n",
        "print(top_creatures[['name', 'manaValue', 'power', 'toughness', 'text', 'score']])\n"
      ],
      "metadata": {
        "colab": {
          "base_uri": "https://localhost:8080/"
        },
        "id": "H9zdfVNUKYkf",
        "outputId": "ace08a4b-0474-400d-c3d1-70c31d80bab0"
      },
      "execution_count": 9,
      "outputs": [
        {
          "output_type": "stream",
          "name": "stderr",
          "text": [
            "<ipython-input-9-c4da1304c6e3>:3: SettingWithCopyWarning: \n",
            "A value is trying to be set on a copy of a slice from a DataFrame.\n",
            "Try using .loc[row_indexer,col_indexer] = value instead\n",
            "\n",
            "See the caveats in the documentation: https://pandas.pydata.org/pandas-docs/stable/user_guide/indexing.html#returning-a-view-versus-a-copy\n",
            "  df['power'] = pd.to_numeric(df['power'], errors='coerce')\n",
            "<ipython-input-9-c4da1304c6e3>:4: SettingWithCopyWarning: \n",
            "A value is trying to be set on a copy of a slice from a DataFrame.\n",
            "Try using .loc[row_indexer,col_indexer] = value instead\n",
            "\n",
            "See the caveats in the documentation: https://pandas.pydata.org/pandas-docs/stable/user_guide/indexing.html#returning-a-view-versus-a-copy\n",
            "  df['toughness'] = pd.to_numeric(df['toughness'], errors='coerce')\n",
            "<ipython-input-9-c4da1304c6e3>:5: SettingWithCopyWarning: \n",
            "A value is trying to be set on a copy of a slice from a DataFrame.\n",
            "Try using .loc[row_indexer,col_indexer] = value instead\n",
            "\n",
            "See the caveats in the documentation: https://pandas.pydata.org/pandas-docs/stable/user_guide/indexing.html#returning-a-view-versus-a-copy\n",
            "  df['manaValue'] = pd.to_numeric(df['manaValue'], errors='coerce')\n",
            "<ipython-input-9-c4da1304c6e3>:8: SettingWithCopyWarning: \n",
            "A value is trying to be set on a copy of a slice from a DataFrame.\n",
            "Try using .loc[row_indexer,col_indexer] = value instead\n",
            "\n",
            "See the caveats in the documentation: https://pandas.pydata.org/pandas-docs/stable/user_guide/indexing.html#returning-a-view-versus-a-copy\n",
            "  df['score'] = (df['power'] + df['toughness']) / df['manaValue']\n",
            "<ipython-input-9-c4da1304c6e3>:11: SettingWithCopyWarning: \n",
            "A value is trying to be set on a copy of a slice from a DataFrame.\n",
            "Try using .loc[row_indexer,col_indexer] = value instead\n",
            "\n",
            "See the caveats in the documentation: https://pandas.pydata.org/pandas-docs/stable/user_guide/indexing.html#returning-a-view-versus-a-copy\n",
            "  df['score'] += df['text'].str.contains('first strike', case=False, na=False) * 0.5\n"
          ]
        },
        {
          "output_type": "stream",
          "name": "stdout",
          "text": [
            "                                              name  manaValue  power  \\\n",
            "38952                           Crookshank Kobolds        0.0    0.0   \n",
            "67406  Westvale Abbey // Ormendahl, Profane Prince        0.0    9.0   \n",
            "46248                              Crimson Kobolds        0.0    0.0   \n",
            "81455                           Half-Kitten, Half-        0.0    1.0   \n",
            "65275              Asmoranomardicadaistinaculdacar        0.0    3.0   \n",
            "81456                                     Humming-        0.0    2.0   \n",
            "81469                                       Rhino-        0.0    1.0   \n",
            "38950                              Crimson Kobolds        0.0    0.0   \n",
            "45881                                Shield Sphere        0.0    0.0   \n",
            "29324                                  Dryad Arbor        0.0    1.0   \n",
            "\n",
            "       toughness                                               text  score  \n",
            "38952        1.0                                                NaN    inf  \n",
            "67406        7.0            Flying, lifelink, indestructible, haste    inf  \n",
            "46248        1.0                                                NaN    inf  \n",
            "81455        2.0  Whenever you're dealt damage,\\nAugment {2}{W} ...    inf  \n",
            "65275        3.0  As long as you've discarded a card this turn, ...    inf  \n",
            "81456        3.0  Flying\\nWhenever you attack with two or more c...    inf  \n",
            "81469        4.0  Whenever this creature blocks,\\nAugment {3}{W}...    inf  \n",
            "38950        1.0                                                NaN    inf  \n",
            "45881        6.0  Defender\\nWhenever Shield Sphere blocks, put a...    inf  \n",
            "29324        1.0  (Dryad Arbor isn't a spell, it's affected by s...    inf  \n"
          ]
        }
      ]
    }
  ]
}